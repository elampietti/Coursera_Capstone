{
    "nbformat_minor": 1, 
    "cells": [
        {
            "source": "# Problem", 
            "cell_type": "markdown", 
            "metadata": {
                "collapsed": true
            }
        }, 
        {
            "source": "Where is the best neighborhood in Los Angeles to open a fitness store. ", 
            "cell_type": "markdown", 
            "metadata": {}
        }, 
        {
            "source": "# Background", 
            "cell_type": "markdown", 
            "metadata": {}
        }, 
        {
            "source": "Los Angeles is home to Hollywood, one of the largest centers in the entertainment industry. This attracts upcoming actors and actresses looking for a way to break into the industry and launch their career. One quality that casting companies often look for is an actor or actress that looks healthy and takes care of themselves. This results in many aspiring actors and actresses joining a gym and maintaining a healthy lifestyle. Therefore, fitness stores are necessary and demanded in this city, however the question is, where is the best neighborhood to open one.", 
            "cell_type": "markdown", 
            "metadata": {}
        }, 
        {
            "source": "# Audience", 
            "cell_type": "markdown", 
            "metadata": {}
        }, 
        {
            "source": "Actors and Actresss as well as generally any active person looking for a store to help supplement their healthy lifestyle.", 
            "cell_type": "markdown", 
            "metadata": {}
        }, 
        {
            "source": "# Data", 
            "cell_type": "markdown", 
            "metadata": {}
        }, 
        {
            "source": "In order to find the best place to open a fitness store in LA, I will need to figure out which neighborhoods have the most gyms and parks. These are two aspects of a neighborhood that attract people who are looking to improve themselves or maintain an active lifestyle. \n\nIn order to retrieve this information, I will utilize Foursquare location data to discover the neighborhoods that have the most gyms and parks. However, I will put more weight on gyms when comparing neighborhoods. This is because parks contain people of all ages, including elderly people who go there solely to relax and are generally not interested in a fitness store. This is different from people who go to gyms as they pay for a membership and therefore are more likely to be willing to purchase fitness supplements from a fitness store.\n\nFor example: If neighborhood A had parks as their most popular venue and gyms as their second most popular venue while neighborhood B had gyms as their most popular venue with parks as their second most popular venue, I would return neighborhood B as the better choice to open up a fitness store in.\n\nIn order to acquire this data, I will scrape the latitudes and longitudes for each neighborhood in LA. Next, I will use these coordinates in the Foursquare API and manipulate the data so that I have each neighborhood in a dataframe with the neighborhoods as indexes and their most popular venues as columns. Next I will sort the data so that the neighborhoods with gyms and parks (weighted respectively) will appear first in the dataframe. I will then divide the results into sections starting with the neighborhoods with the most parks and gyms and continuing down to those with none. Next, I will use clustering to display these sections on a map so that potential stakeholders can see the best and the worst neighborhoods to open up a fitness store.", 
            "cell_type": "markdown", 
            "metadata": {}
        }, 
        {
            "execution_count": null, 
            "cell_type": "code", 
            "metadata": {}, 
            "outputs": [], 
            "source": ""
        }
    ], 
    "metadata": {
        "kernelspec": {
            "display_name": "Python 3.6", 
            "name": "python3", 
            "language": "python"
        }, 
        "language_info": {
            "mimetype": "text/x-python", 
            "nbconvert_exporter": "python", 
            "version": "3.6.8", 
            "name": "python", 
            "file_extension": ".py", 
            "pygments_lexer": "ipython3", 
            "codemirror_mode": {
                "version": 3, 
                "name": "ipython"
            }
        }
    }, 
    "nbformat": 4
}