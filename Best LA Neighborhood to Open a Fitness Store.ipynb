{
    "nbformat_minor": 1, 
    "cells": [
        {
            "source": "# Problem", 
            "cell_type": "markdown", 
            "metadata": {
                "collapsed": true
            }
        }, 
        {
            "source": "Where is the best neighborhood in Los Angeles to open a fitness store. ", 
            "cell_type": "markdown", 
            "metadata": {}
        }, 
        {
            "source": "# Background", 
            "cell_type": "markdown", 
            "metadata": {}
        }, 
        {
            "source": "Los Angeles is home to Hollywood, one of the largest centers in the entertainment industry. This attracts upcoming actors and actresses looking for a way to break into the industry and launch their career. One quality that casting companies often look for is an actor or actress that looks healthy and takes care of themselves. This results in many aspiring actors and actresses joining a gym and maintaining a healthy lifestyle. Therefore, fitness stores are necessary and demanded in this city, however the question is, where is the best neighborhood to open one.", 
            "cell_type": "markdown", 
            "metadata": {}
        }, 
        {
            "source": "# Audience", 
            "cell_type": "markdown", 
            "metadata": {}
        }, 
        {
            "source": "Actors and Actresss as well as generally any active person looking for a store to help supplement their healthy lifestyle.", 
            "cell_type": "markdown", 
            "metadata": {}
        }
    ], 
    "metadata": {
        "kernelspec": {
            "display_name": "Python 3.6", 
            "name": "python3", 
            "language": "python"
        }, 
        "language_info": {
            "mimetype": "text/x-python", 
            "nbconvert_exporter": "python", 
            "version": "3.6.8", 
            "name": "python", 
            "file_extension": ".py", 
            "pygments_lexer": "ipython3", 
            "codemirror_mode": {
                "version": 3, 
                "name": "ipython"
            }
        }
    }, 
    "nbformat": 4
}